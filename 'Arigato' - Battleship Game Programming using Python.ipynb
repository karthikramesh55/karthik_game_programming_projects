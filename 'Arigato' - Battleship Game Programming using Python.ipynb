{
 "cells": [
  {
   "cell_type": "code",
   "execution_count": 8,
   "metadata": {},
   "outputs": [],
   "source": [
    "#Importing the libraries to randomize the battleship coordinate selection \n",
    "from random import randint"
   ]
  },
  {
   "cell_type": "code",
   "execution_count": 9,
   "metadata": {},
   "outputs": [],
   "source": [
    "#Inititating a list to frame a 5x5 grid for the game to be played\n",
    "board = []"
   ]
  },
  {
   "cell_type": "code",
   "execution_count": 10,
   "metadata": {},
   "outputs": [],
   "source": [
    "#Filling the grid with zeros to define explorable coordinate positions \n",
    "for i in range(0,5):\n",
    "    board.append(['0']*5)"
   ]
  },
  {
   "cell_type": "code",
   "execution_count": 11,
   "metadata": {},
   "outputs": [],
   "source": [
    "#Functionality to print the modified grid after each turn the player takes\n",
    "def print_board(board):\n",
    "    for row in board:\n",
    "        print(\" \".join(row))"
   ]
  },
  {
   "cell_type": "code",
   "execution_count": 12,
   "metadata": {},
   "outputs": [
    {
     "name": "stdout",
     "output_type": "stream",
     "text": [
      "0 0 0 0 0\n",
      "0 0 0 0 0\n",
      "0 0 0 0 0\n",
      "0 0 0 0 0\n",
      "0 0 0 0 0\n"
     ]
    }
   ],
   "source": [
    "#Grid display\n",
    "print_board(board)"
   ]
  },
  {
   "cell_type": "code",
   "execution_count": 13,
   "metadata": {},
   "outputs": [],
   "source": [
    "#Functionality to randomize the battleship coordinate fixation by the machine\n",
    "def random_row(board):\n",
    "    return randint(0, len(board) - 1)\n",
    "\n",
    "def random_col(board):\n",
    "    return randint(0, len(board[0]) - 1)\n",
    "\n",
    "ship_row = random_row(board)\n",
    "ship_column = random_col(board)"
   ]
  },
  {
   "cell_type": "code",
   "execution_count": null,
   "metadata": {},
   "outputs": [
    {
     "name": "stdout",
     "output_type": "stream",
     "text": [
      "Turn 1\n"
     ]
    }
   ],
   "source": [
    "#Defining the user input functionality and the number of turns that the user has in hand, to continue playing\n",
    "for turn in range(5):\n",
    "    print(\"Turn\", turn + 1)\n",
    "    guess_row = int(input(\"Guess Row: \"))\n",
    "    guess_col = int(input(\"Guess Col: \"))\n",
    "\n",
    "    if(guess_row == ship_row) and (guess_col == ship_col):\n",
    "        print(\"Congratulations! You sank my battleship!\")\n",
    "        break\n",
    "    \n",
    "    else:\n",
    "        if guess_row not in range(5) or guess_col not in range(5):\n",
    "            print(\"Oops, that's not in the ocean\")\n",
    "    if(board[guess_row][guess_col] == 'X'):\n",
    "        print(\"You guessed that one already\")\n",
    "    else:\n",
    "        print(\"You missed Karthik's battleship\")\n",
    "        board[guess_row][guess_col] = \"X\"\n",
    "    if (turn == 4):\n",
    "        print(\"Game over, buddy\")\n",
    "    print_board(board)\n",
    "\n",
    "print(\"\\n\")\n",
    "print(\"The correct row is %d\" %(ship_row))\n",
    "print(\"The correct column is %d\" %(ship_column))\n",
    "print(\"The correct coordinate of the battleship is: (%d , %d)\" %(ship_row,ship_column))  "
   ]
  },
  {
   "cell_type": "code",
   "execution_count": null,
   "metadata": {},
   "outputs": [],
   "source": []
  }
 ],
 "metadata": {
  "kernelspec": {
   "display_name": "Python 3",
   "language": "python",
   "name": "python3"
  },
  "language_info": {
   "codemirror_mode": {
    "name": "ipython",
    "version": 3
   },
   "file_extension": ".py",
   "mimetype": "text/x-python",
   "name": "python",
   "nbconvert_exporter": "python",
   "pygments_lexer": "ipython3",
   "version": "3.6.6"
  }
 },
 "nbformat": 4,
 "nbformat_minor": 2
}
